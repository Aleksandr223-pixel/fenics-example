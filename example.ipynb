from fenics import *
import numpy as np
import matplotlib.pyplot as plt

# Параметры
D_V = 1.0e-9  # Коэффициент диффузии вакансий
k = 1.0e-12   # Константа рекомбинации
N_d_0 = 1.0e21  # Начальная концентрация вакансий
R = 0.01      # Радиус зерна
T = 10        # Время
num_steps = 100  # Количество временных шагов

# Создание сетки
mesh = IntervalMesh(100, 0, R)

# Определение функции пространства
V = FunctionSpace(mesh, 'P', 1)  # Линейные элементы

# Начальные условия
N_d_n = interpolate(Constant(N_d_0), V)

# Определение временного шага
dt = T / num_steps

# Определение вариационной задачи
N_d = TrialFunction(V)
v = TestFunction(V)

# Неявная схема Кранка-Николсона
a = (N_d / dt) * v * dx + D_V * inner(grad(N_d), grad(v)) * dx
L = (N_d_n / dt) * v * dx + D_V * inner(grad(N_d_n), grad(v)) * dx - k * N_d_n**2 * v * dx

# Решение системы уравнений методом Ньютона
N_d = Function(V)
for n in range(num_steps):
    # Обновление правой части
    N_d_n = N_d.copy()
    
    # Определение проблемы
    F = a - L
    J = derivative(F, N_d)

    # Решение системы уравнений
    problem = NonlinearVariationalProblem(F, N_d, J=J)
    solver = NonlinearVariationalSolver(problem)
    solver.solve()

    # Сохранение результата
    N_d_n.assign(N_d)

# Визуализация результатов
plot(N_d)
plt.title('Концентрация вакансий после {} секунд'.format(T))
plt.xlabel('Радиус (m)')
plt.ylabel('Концентрация вакансий (N_d, m⁻³)')
plt.show()
